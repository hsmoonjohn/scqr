{
 "cells": [
  {
   "cell_type": "code",
   "execution_count": 1,
   "id": "be45de8a",
   "metadata": {},
   "outputs": [],
   "source": [
    "import numpy as np\n",
    "import pandas as pd\n",
    "import numpy.random as rgt\n",
    "import matplotlib.pyplot as plt\n",
    "import scipy.stats as spstat\n",
    "import time\n",
    "import math\n",
    "\n",
    "from sqr_scqr_conquer import low_dim, high_dim\n",
    "from cqr_admm import cqrpadmm\n",
    "from ranklasso import ranklassoregression\n",
    "\n",
    "def cov_generate(std, corr=0.5):\n",
    "    p = len(std)\n",
    "    R = np.zeros(shape=[p,p])\n",
    "    for j in range(p-1):\n",
    "        R[j, j+1:] = np.array(range(1, len(R[j,j+1:])+1))\n",
    "    R += R.T\n",
    "    return np.outer(std, std)*(corr*np.ones(shape=[p,p]))**R\n",
    "\n",
    "rgt.seed(89)"
   ]
  },
  {
   "cell_type": "code",
   "execution_count": 2,
   "id": "067dc480",
   "metadata": {},
   "outputs": [],
   "source": [
    "n, p = 70,250\n",
    "Mu, Sig = np.zeros(p), cov_generate(np.ones(p))\n",
    "#Mu,Sig= np.zeros(p),0.5*np.ones(shape=(p,p))+0.5*np.eye(p)\n",
    "beta = np.zeros(p)\n",
    "beta[[0, 1,4]] =[3,1.5,2]\n",
    "#beta[[0, 1,2]] =[math.sqrt(3),math.sqrt(3),math.sqrt(3)]\n",
    "tau=np.zeros(19)\n",
    "niter=20000\n",
    "for i in range(0,19):\n",
    "    tau[i]=0.05*(i+1)\n",
    "M = 10\n",
    "coef_err = np.zeros(shape=(M,4))\n",
    "true_pos = np.zeros(shape=(M,4))\n",
    "false_pos = np.zeros(shape=(M,4))\n",
    "true_beta = np.copy(beta)\n",
    "true_set = np.where(true_beta!=0)[0]\n",
    "runtime = np.zeros(4)\n",
    "for m in range(M):\n",
    "    X = rgt.multivariate_normal(mean=Mu, cov=Sig, size=n)\n",
    "    \n",
    "    #Y = X.dot(beta)+rgt.normal(0,math.sqrt(3), size=n)\n",
    "    #Y = X.dot(beta)+math.sqrt(6)*(0.5*rgt.normal(0,1,size=n)+0.5*rgt.normal(0,0.5**3,size=n))\n",
    "    Y = X.dot(beta)+rgt.standard_t(3,size=n)\n",
    "    #Y = X.dot(beta)+rgt.standard_cauchy(size=n)\n",
    "    Xcenter=X-X.mean(axis=0)\n",
    "    \n",
    "    hdscqr = high_dim(Xcenter, Y, intercept=False)\n",
    "    hdcqr = cqrpadmm(Xcenter, Y, intercept=False)\n",
    "    hdranklasso = ranklassoregression(Xcenter, Y, intercept=False)\n",
    "    ## Rank Lasso \n",
    "    tic = time.time()\n",
    "    ranklasso = hdranklasso.ranklasso(method='highs')\n",
    "    runtime[0] += time.time() - tic\n",
    "    ranklasso_size, ranklasso_set = sum(ranklasso['beta'] != 0), np.where(ranklasso['beta'] != 0)[0]        \n",
    "    coef_err[m,0] = (ranklasso['beta'] - true_beta).dot(Sig).dot(ranklasso['beta'] - true_beta)    \n",
    "    true_pos[m,0] = len(np.intersect1d(true_set, ranklasso_set))    \n",
    "    false_pos[m,0] = ranklasso_size - true_pos[m,0]   \n",
    "    \n",
    "    ## l1-penalized cqr_admm \n",
    "    tic = time.time()\n",
    "    cqradmm = hdcqr.cqrp_admm_smw(tau=tau, maxit=niter)\n",
    "    runtime[1] += time.time() - tic\n",
    "    admm_size, admm_set = sum(cqradmm['beta'] != 0), np.where(cqradmm['beta'] != 0)[0]        \n",
    "    coef_err[m,1] = (cqradmm['beta'] - true_beta).dot(Sig).dot(cqradmm['beta'] - true_beta)    \n",
    "    true_pos[m,1] = len(np.intersect1d(true_set, admm_set))    \n",
    "    false_pos[m,1] = admm_size - true_pos[m,1]   \n",
    "    \n",
    "    ## l1-penalized scqr \n",
    "    tic = time.time()\n",
    "    l1_model = hdscqr.cqr_l1(tau=tau,standardize=True)\n",
    "    runtime[2] += time.time() - tic\n",
    "    l1_size, l1_set = sum(l1_model['beta'] != 0), np.where(l1_model['beta'] != 0)[0]\n",
    "    coef_err[m,2] = (l1_model['beta'] - true_beta).dot(Sig).dot(l1_model['beta'] - true_beta)    \n",
    "    true_pos[m,2] = len(np.intersect1d(true_set, l1_set))    \n",
    "    false_pos[m,2] = l1_size - true_pos[m,2]   \n",
    "    \n",
    "    ## irw scqr\n",
    "    tic = time.time()\n",
    "    irw_model = hdscqr.cqr_irw(tau=tau,standardize=True)\n",
    "    runtime[3] += time.time() - tic\n",
    "    irw_size, irw_set = sum(irw_model['beta'] != 0), np.where(irw_model['beta'] != 0)[0]\n",
    "    coef_err[m,3] = (irw_model['beta'] - true_beta).dot(Sig).dot(irw_model['beta'] - true_beta)    \n",
    "    true_pos[m,3] = len(np.intersect1d(true_set, irw_set))    \n",
    "    false_pos[m,3] = irw_size - true_pos[m,3]   \n",
    "\n",
    "    \n",
    "out1 = np.array([np.mean(coef_err, axis=0), np.std(coef_err, axis=0), np.mean(true_pos, axis=0), np.mean(false_pos, axis=0), runtime/M])\n",
    "\n",
    "out1 = pd.DataFrame(out1, columns=['ranklasso','cqr_admm','scqr-l1','scqr-scad'],\n",
    "                    index=['model err', '(std)', 'true pos', 'false pos', 'runtime'])\n"
   ]
  },
  {
   "cell_type": "code",
   "execution_count": 3,
   "id": "4028299c",
   "metadata": {},
   "outputs": [
    {
     "name": "stdout",
     "output_type": "stream",
     "text": [
      "           ranklasso  cqr_admm   scqr-l1  scqr-scad\n",
      "model err   1.274110  0.546446  0.489830   0.063529\n",
      "(std)       0.718832  0.318642  0.251311   0.055468\n",
      "true pos    3.000000  3.000000  3.000000   3.000000\n",
      "false pos   0.400000  4.900000  8.100000   0.000000\n",
      "runtime    21.801511  0.596478  0.376146   0.315989\n"
     ]
    }
   ],
   "source": [
    "print(out1)"
   ]
  }
 ],
 "metadata": {
  "kernelspec": {
   "display_name": "Python 3",
   "language": "python",
   "name": "python3"
  },
  "language_info": {
   "codemirror_mode": {
    "name": "ipython",
    "version": 3
   },
   "file_extension": ".py",
   "mimetype": "text/x-python",
   "name": "python",
   "nbconvert_exporter": "python",
   "pygments_lexer": "ipython3",
   "version": "3.8.8"
  }
 },
 "nbformat": 4,
 "nbformat_minor": 5
}
